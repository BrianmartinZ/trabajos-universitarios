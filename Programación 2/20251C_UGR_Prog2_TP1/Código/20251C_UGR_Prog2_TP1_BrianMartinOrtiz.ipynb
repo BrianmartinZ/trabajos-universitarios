{
 "cells": [
  {
   "cell_type": "markdown",
   "id": "1e4b4420",
   "metadata": {},
   "source": [
    "## Programación 2 (V.TUCD2.11.1)\n",
    "## Trabajo Práctico 1\n",
    "##### Principios del Paradigma Orientado a Objetos\n",
    "##### Alumno: Brian Martin Ortiz"
   ]
  },
  {
   "cell_type": "markdown",
   "id": "b304ee60",
   "metadata": {},
   "source": [
    "### 1. Introducción y Preparación de Datos"
   ]
  },
  {
   "cell_type": "code",
   "execution_count": 1,
   "id": "df6b4319",
   "metadata": {},
   "outputs": [],
   "source": [
    "# llamamos al método ABC\n",
    "from abc import ABC, abstractmethod\n",
    "import random"
   ]
  },
  {
   "cell_type": "code",
   "execution_count": 2,
   "id": "eb0f9909",
   "metadata": {},
   "outputs": [],
   "source": [
    "class Persona(ABC):\n",
    "    # Se define el constructor con sus atributos.\n",
    "    def __init__(self, nombre, apellido, edad, ocupacion):\n",
    "        self.nombre = nombre\n",
    "        self.apellido = apellido\n",
    "        self.edad = edad\n",
    "        self.ocupacion = ocupacion\n",
    "    \n",
    "    # Abstracción:\n",
    "    @abstractmethod\n",
    "    def mostrar_informacion(self):\n",
    "        pass # Se va implementar en las clases hijas, por ser un método abstracto.\n",
    "    \n",
    "    # Métodos de clase:\n",
    "    @classmethod\n",
    "    def mostrar_orden(cls, lista, atributo='edad', descendente=False):\n",
    "        filtrados = []\n",
    "        \n",
    "        for per in lista:\n",
    "            if isinstance(per, cls): # esta esa persona en la clase..?\n",
    "                filtrados.append(per)\n",
    "        try:\n",
    "            ordenados = sorted(filtrados, key=lambda p: getattr(p, atributo), reverse=descendente) # ordenalo según el atributo recibido\n",
    "        except:\n",
    "            print(f\"Error: No todos los objetos tiene el atributo '{atributo}'.\")\n",
    "            return\n",
    "        \n",
    "        for persona in ordenados:\n",
    "            print(persona)\n",
    "\n",
    "    # Formatear salida\n",
    "    def __str__(self):\n",
    "        return f\"{self.__class__.__name__}: {self.nombre} {self.apellido} ({self.edad})\"\n",
    "    \n",
    "    # Imprimir lista:\n",
    "    def __repr__(self):\n",
    "        return self.__str__()\n",
    "    \n",
    "    # Se genera polimorfismo de 'actualizar_informacion'.\n",
    "    def actualizar_informacion(self, nombre=None, edad=None, apellido=None, ocupacion=None):\n",
    "        if nombre is not None:\n",
    "            if isinstance(nombre, str) and nombre.strip(): # validando nombre\n",
    "                self.nombre = nombre\n",
    "            else:\n",
    "                print(\"Error: El nombre debe ser una cadena no vacía.\")\n",
    "        if apellido is not None:\n",
    "            if isinstance(apellido, str) and apellido.strip(): # validando apellido\n",
    "                self.apellido = apellido\n",
    "            else:\n",
    "                print(\"Error: El apellido debe ser una cadena no vacía.\")\n",
    "        if edad is not None:\n",
    "            if isinstance(edad, int) and edad > 0: # validando edad\n",
    "                self.edad = edad\n",
    "            else:\n",
    "                print(\"Error: La edad debe ser un número entero positivo.\")\n",
    "        if ocupacion is not None:\n",
    "            if isinstance(ocupacion, str) and ocupacion.strip(): # validando ocupacion\n",
    "                self.ocupacion = ocupacion\n",
    "            else:\n",
    "                print(\"Error: La ocupacion debe ser una cadena no vacía.\")\n"
   ]
  },
  {
   "cell_type": "code",
   "execution_count": 3,
   "id": "0221ebeb",
   "metadata": {},
   "outputs": [],
   "source": [
    "class Estudiante(Persona): # Hereda de la clase Persona (Padre)\n",
    "    def __init__(self, nombre, apellido, edad, ocupacion):\n",
    "        super().__init__(nombre, apellido, edad, ocupacion)\n",
    "        self.matricula = self.generar_id() # atributo adicional de la clase.\n",
    "\n",
    "    # Se implementa el 'mostrar_informacion' de la clase padre.\n",
    "    def mostrar_informacion(self): \n",
    "        return f\"Mi nombre es {self.nombre} {self.apellido}, tengo {self.edad} años, soy {self.ocupacion}, Matricula: {self.matricula}\"\n",
    "    \n",
    "    # Se genera polimorfismo entre subclases (Estudiante, Administrativo).\n",
    "    def generar_id(self):\n",
    "        return f\"{self.apellido[:3]}{self.nombre[-2:].capitalize()}{self.ocupacion[:3].capitalize()}{random.randint(100,999)}\"\n",
    "    \n",
    "    # Se genera polimorfismo de 'actualizar_informacion'.\n",
    "    def actualizar_informacion(self, nombre=None, edad=None, apellido=None, ocupacion=None):\n",
    "        super().actualizar_informacion(nombre, edad, apellido, ocupacion)\n",
    "\n",
    "        # Generar nuevo ID si hago un cambio en los datos.\n",
    "        if nombre or apellido or ocupacion:\n",
    "            self.matricula = self.generar_id()"
   ]
  },
  {
   "cell_type": "code",
   "execution_count": 4,
   "id": "4f1d4d6c",
   "metadata": {},
   "outputs": [],
   "source": [
    "class Docente(Persona): # Hereda de la clase Persona (Padre)\n",
    "    def __init__(self, nombre, apellido, edad, ocupacion, asignatura):\n",
    "        super().__init__(nombre, apellido, edad, ocupacion)\n",
    "        self.asignatura = asignatura # atributo adicional de la clase.\n",
    "\n",
    "    # Se implementa el 'mostrar_informacion' de la clase padre.\n",
    "    def mostrar_informacion(self):\n",
    "        return f\"Mi nombre es {self.nombre} {self.apellido}, tengo {self.edad} años, soy {self.ocupacion} de {self.asignatura}\"\n",
    "    \n",
    "    # Se genera polimorfismo de 'actualizar_informacion'.\n",
    "    def actualizar_informacion(self, nombre=None, edad=None, apellido=None, ocupacion=None, asignatura=None):\n",
    "        super().actualizar_informacion(nombre, edad, apellido, ocupacion)\n",
    "        if asignatura is not None:\n",
    "            if isinstance(asignatura, str) and asignatura.strip():\n",
    "                self.asignatura = asignatura\n",
    "            else:\n",
    "                print(\"Error: La asignatura debe ser una cadena no vacía.\")\n",
    "    "
   ]
  },
  {
   "cell_type": "code",
   "execution_count": 5,
   "id": "5643b7a9",
   "metadata": {},
   "outputs": [],
   "source": [
    "class Administrativo(Persona): # Hereda de la clase Persona (Padre)\n",
    "    def __init__(self, nombre, apellido, edad, ocupacion, salario):\n",
    "        super().__init__(nombre, apellido, edad, ocupacion)\n",
    "        self.legajo = self.generar_id() # atributo adicional de la clase.\n",
    "        self.__salario = salario # atributo PRIVADO de la clase.\n",
    "\n",
    "    # Se implementa el 'mostrar_informacion' de la clase padre.\n",
    "    def mostrar_informacion(self):\n",
    "        return f\"Mi nombre es {self.nombre} {self.apellido}, tengo {self.edad} años, soy {self.ocupacion}, Legajo: {self.legajo}\"\n",
    "    \n",
    "    # Se genera polimorfismo entre subclases (Estudiante, Administrativo).\n",
    "    def generar_id(self):\n",
    "        return f\"{self.apellido[:3]}{self.nombre[-2:].capitalize()}{self.ocupacion[:3].capitalize()}{random.randint(100,999)}\"\n",
    "    \n",
    "    # Se genera polimorfismo de 'actualizar_informacion'.\n",
    "    def actualizar_informacion(self, nombre=None, edad=None, apellido=None, ocupacion=None, salario=None):\n",
    "        super().actualizar_informacion(nombre, edad, apellido, ocupacion)\n",
    "\n",
    "        # Generar nuevo ID si hago un cambio en los datos.\n",
    "        if nombre or apellido or ocupacion:\n",
    "            self.legajo = self.generar_id()\n",
    "            \n",
    "        if salario is not None:\n",
    "            self.salario = salario # Pasa primero por el setter para validar, manteniedo el atributo en privado.\n",
    "        \n",
    "    # Encapsulamiento:\n",
    "    @property # Funciona como getter del método salario.\n",
    "    def salario(self):\n",
    "        return f\"Salario: {self.__salario}\"\n",
    "    \n",
    "    @salario.setter # Setter del método salario.\n",
    "    def salario(self, salario):\n",
    "        if (isinstance(salario, float) or isinstance(salario, int)) and salario > 0: # validación del método salario.\n",
    "            self.__salario = salario\n",
    "        else:\n",
    "            raise ValueError(\"Salario debe ser un valor númerico y positivo\") # Mensaje de error personalizado.\n",
    "        \n",
    "    "
   ]
  },
  {
   "cell_type": "code",
   "execution_count": 6,
   "id": "ccbc02c5",
   "metadata": {},
   "outputs": [],
   "source": [
    "# Se crea una instancia de Estudiante.\n",
    "estudiante1 = Estudiante(\"Juan\", \"Perez\", 34, \"estudiante\")"
   ]
  },
  {
   "cell_type": "code",
   "execution_count": 7,
   "id": "c52a06a6",
   "metadata": {},
   "outputs": [
    {
     "data": {
      "text/plain": [
       "'Mi nombre es Juan Perez, tengo 34 años, soy estudiante, Matricula: PerAnEst721'"
      ]
     },
     "execution_count": 7,
     "metadata": {},
     "output_type": "execute_result"
    }
   ],
   "source": [
    "estudiante1.mostrar_informacion()"
   ]
  },
  {
   "cell_type": "code",
   "execution_count": 8,
   "id": "3b4a7bd1",
   "metadata": {},
   "outputs": [],
   "source": [
    "# Se crea una instancia de Administrativo.\n",
    "admin1 = Administrativo(\"Pablo\", \"Gomez\", 27, \"administrativo\", 3000)"
   ]
  },
  {
   "cell_type": "code",
   "execution_count": 9,
   "id": "cbead61d",
   "metadata": {},
   "outputs": [
    {
     "data": {
      "text/plain": [
       "'Mi nombre es Pablo Gomez, tengo 27 años, soy administrativo, Legajo: GomLoAdm763'"
      ]
     },
     "execution_count": 9,
     "metadata": {},
     "output_type": "execute_result"
    }
   ],
   "source": [
    "admin1.mostrar_informacion()"
   ]
  },
  {
   "cell_type": "code",
   "execution_count": 10,
   "id": "b81d126b",
   "metadata": {},
   "outputs": [
    {
     "data": {
      "text/plain": [
       "'Salario: 3000'"
      ]
     },
     "execution_count": 10,
     "metadata": {},
     "output_type": "execute_result"
    }
   ],
   "source": [
    "admin1.salario"
   ]
  },
  {
   "cell_type": "code",
   "execution_count": 11,
   "id": "6440be2a",
   "metadata": {},
   "outputs": [],
   "source": [
    "admin1.salario = 2300.0"
   ]
  },
  {
   "cell_type": "code",
   "execution_count": 12,
   "id": "4d1e5342",
   "metadata": {},
   "outputs": [
    {
     "data": {
      "text/plain": [
       "'Salario: 2300.0'"
      ]
     },
     "execution_count": 12,
     "metadata": {},
     "output_type": "execute_result"
    }
   ],
   "source": [
    "admin1.salario"
   ]
  },
  {
   "cell_type": "code",
   "execution_count": 13,
   "id": "a0d6c726",
   "metadata": {},
   "outputs": [],
   "source": [
    "# Se crea una instancia de Docente.\n",
    "docente1 = Docente(\"Fernando\", \"Suarez\", 45, \"Docente\", \"Programación 2\")"
   ]
  },
  {
   "cell_type": "code",
   "execution_count": 14,
   "id": "81031a81",
   "metadata": {},
   "outputs": [
    {
     "data": {
      "text/plain": [
       "'Mi nombre es Fernando Suarez, tengo 45 años, soy Docente de Programación 2'"
      ]
     },
     "execution_count": 14,
     "metadata": {},
     "output_type": "execute_result"
    }
   ],
   "source": [
    "docente1.mostrar_informacion()"
   ]
  },
  {
   "cell_type": "code",
   "execution_count": 15,
   "id": "4d8671dd",
   "metadata": {},
   "outputs": [],
   "source": [
    "# Creo una colección de personas en una lista.\n",
    "listPersonas = [admin1, estudiante1, docente1]"
   ]
  },
  {
   "cell_type": "code",
   "execution_count": 16,
   "id": "296786f9",
   "metadata": {},
   "outputs": [
    {
     "name": "stdout",
     "output_type": "stream",
     "text": [
      "Mi nombre es Pablo Gomez, tengo 27 años, soy administrativo, Legajo: GomLoAdm763\n",
      "Mi nombre es Juan Perez, tengo 34 años, soy estudiante, Matricula: PerAnEst721\n",
      "Mi nombre es Fernando Suarez, tengo 45 años, soy Docente de Programación 2\n"
     ]
    }
   ],
   "source": [
    "# Recorro con un for toda la lista (polimorfismo)\n",
    "for per in listPersonas:\n",
    "    print(per.mostrar_informacion()) # se muestra la información especifica de cada clase."
   ]
  },
  {
   "cell_type": "markdown",
   "id": "7ed72ab2",
   "metadata": {},
   "source": [
    "### 2. Análisis de la Colección de datos"
   ]
  },
  {
   "cell_type": "code",
   "execution_count": 17,
   "id": "64a2e0f3",
   "metadata": {},
   "outputs": [],
   "source": [
    "# función para filtrar por edad.\n",
    "def filtrar_mayores_a(personas, edad):\n",
    "    '''Devuelve una lista de personas cuya edad es mayor al valor dado'''\n",
    "\n",
    "    if not isinstance(edad, int): # si no es de tipo entero...\n",
    "        print(\"Error: La edad debe ser un número entero.\")\n",
    "        return\n",
    "\n",
    "\n",
    "    for per in personas:\n",
    "        if per.edad > edad:\n",
    "            print(per.mostrar_informacion())"
   ]
  },
  {
   "cell_type": "code",
   "execution_count": 18,
   "id": "a3d65b4e",
   "metadata": {},
   "outputs": [
    {
     "name": "stdout",
     "output_type": "stream",
     "text": [
      "Mi nombre es Pablo Gomez, tengo 27 años, soy administrativo, Legajo: GomLoAdm763\n",
      "Mi nombre es Juan Perez, tengo 34 años, soy estudiante, Matricula: PerAnEst721\n",
      "Mi nombre es Fernando Suarez, tengo 45 años, soy Docente de Programación 2\n"
     ]
    }
   ],
   "source": [
    "filtrar_mayores_a(listPersonas, 20)"
   ]
  },
  {
   "cell_type": "code",
   "execution_count": 19,
   "id": "5daad0c0",
   "metadata": {},
   "outputs": [],
   "source": [
    "# función para filtrar por ocupación.\n",
    "def filtrar_x_ocupacion(personas, ocupacion):\n",
    "    encontrado = 0\n",
    "\n",
    "    if not isinstance(ocupacion, str): # si no es de tipo string...\n",
    "        print(\"Error: La ocupación debe ser un texto.(string)\")\n",
    "        return\n",
    "\n",
    "    for per in personas:\n",
    "        if per.ocupacion.lower() == ocupacion.lower():\n",
    "            print(per.mostrar_informacion())\n",
    "            encontrado += 1\n",
    "\n",
    "    if encontrado == 0:\n",
    "        print(\"No se encontraron personas con esa ocupación.\")\n"
   ]
  },
  {
   "cell_type": "code",
   "execution_count": 20,
   "id": "a324c61f",
   "metadata": {},
   "outputs": [
    {
     "name": "stdout",
     "output_type": "stream",
     "text": [
      "Mi nombre es Fernando Suarez, tengo 45 años, soy Docente de Programación 2\n"
     ]
    }
   ],
   "source": [
    "filtrar_x_ocupacion(listPersonas, \"docente\")"
   ]
  },
  {
   "cell_type": "code",
   "execution_count": 21,
   "id": "e47e7a6d",
   "metadata": {},
   "outputs": [],
   "source": [
    "# función para filtrar por apellido.\n",
    "def filtrar_x_apellido(personas, apellido):\n",
    "    encontrado = 0\n",
    "\n",
    "    if not isinstance(apellido, str): # Si no es de tipo string...\n",
    "        print(\"Error: El apellido debe ser un texto.(string)\")\n",
    "        return\n",
    "    \n",
    "    for per in personas:\n",
    "        if per.apellido.lower() == apellido.lower():\n",
    "            print(per.mostrar_informacion())\n",
    "            encontrado += 1\n",
    "\n",
    "    if encontrado == 0:\n",
    "        print(\"No existe ese apellido en la lista.\")\n"
   ]
  },
  {
   "cell_type": "code",
   "execution_count": 22,
   "id": "2b5d8157",
   "metadata": {},
   "outputs": [
    {
     "name": "stdout",
     "output_type": "stream",
     "text": [
      "Mi nombre es Juan Perez, tengo 34 años, soy estudiante, Matricula: PerAnEst721\n"
     ]
    }
   ],
   "source": [
    "filtrar_x_apellido(listPersonas, \"perez\")"
   ]
  },
  {
   "cell_type": "markdown",
   "id": "e01e6a5f",
   "metadata": {},
   "source": [
    "### 3. Manipulación y Operaciones Avanzadas"
   ]
  },
  {
   "cell_type": "markdown",
   "id": "3fbac840",
   "metadata": {},
   "source": [
    "Usamos el método \"actualizar_información\" de Estudiante y generamos un ID para la matricula."
   ]
  },
  {
   "cell_type": "code",
   "execution_count": 23,
   "id": "f5c174e4",
   "metadata": {},
   "outputs": [
    {
     "data": {
      "text/plain": [
       "'Mi nombre es Juan Perez, tengo 34 años, soy estudiante, Matricula: PerAnEst721'"
      ]
     },
     "execution_count": 23,
     "metadata": {},
     "output_type": "execute_result"
    }
   ],
   "source": [
    "estudiante1.mostrar_informacion()"
   ]
  },
  {
   "cell_type": "code",
   "execution_count": 24,
   "id": "e42c0e5c",
   "metadata": {},
   "outputs": [],
   "source": [
    "estudiante1.actualizar_informacion(nombre=\"Franco\", apellido=None, edad= 44, ocupacion= \"albañil\")"
   ]
  },
  {
   "cell_type": "code",
   "execution_count": 25,
   "id": "2ff90380",
   "metadata": {},
   "outputs": [
    {
     "data": {
      "text/plain": [
       "'Mi nombre es Franco Perez, tengo 44 años, soy albañil, Matricula: PerCoAlb209'"
      ]
     },
     "execution_count": 25,
     "metadata": {},
     "output_type": "execute_result"
    }
   ],
   "source": [
    "estudiante1.mostrar_informacion()"
   ]
  },
  {
   "cell_type": "markdown",
   "id": "67ee048e",
   "metadata": {},
   "source": [
    "Usamos el método \"actualizar_informacion\" de Administrativo y generamos un ID para el legajo."
   ]
  },
  {
   "cell_type": "code",
   "execution_count": 26,
   "id": "cac4a32a",
   "metadata": {},
   "outputs": [],
   "source": [
    "admin2 = Administrativo(\"Juan\", \"Godoy\", 27, \"Analista Financiero\", 22000)"
   ]
  },
  {
   "cell_type": "code",
   "execution_count": 27,
   "id": "1826fba8",
   "metadata": {},
   "outputs": [
    {
     "data": {
      "text/plain": [
       "'Mi nombre es Juan Godoy, tengo 27 años, soy Analista Financiero, Legajo: GodAnAna798'"
      ]
     },
     "execution_count": 27,
     "metadata": {},
     "output_type": "execute_result"
    }
   ],
   "source": [
    "admin2.mostrar_informacion()"
   ]
  },
  {
   "cell_type": "code",
   "execution_count": 28,
   "id": "b1d40069",
   "metadata": {},
   "outputs": [],
   "source": [
    "admin2.actualizar_informacion(nombre=\"Tomas\", apellido=\"Lopez\")"
   ]
  },
  {
   "cell_type": "code",
   "execution_count": 29,
   "id": "3074b6dd",
   "metadata": {},
   "outputs": [
    {
     "data": {
      "text/plain": [
       "'Mi nombre es Tomas Lopez, tengo 27 años, soy Analista Financiero, Legajo: LopAsAna270'"
      ]
     },
     "execution_count": 29,
     "metadata": {},
     "output_type": "execute_result"
    }
   ],
   "source": [
    "admin2.mostrar_informacion()"
   ]
  },
  {
   "cell_type": "code",
   "execution_count": 30,
   "id": "b4019c08",
   "metadata": {},
   "outputs": [
    {
     "data": {
      "text/plain": [
       "'Salario: 22000'"
      ]
     },
     "execution_count": 30,
     "metadata": {},
     "output_type": "execute_result"
    }
   ],
   "source": [
    "admin2.salario"
   ]
  },
  {
   "cell_type": "markdown",
   "id": "0128894e",
   "metadata": {},
   "source": [
    "Usamos el método \"actualizar_informacion\" de Docente."
   ]
  },
  {
   "cell_type": "code",
   "execution_count": 31,
   "id": "42b01d7f",
   "metadata": {},
   "outputs": [
    {
     "data": {
      "text/plain": [
       "'Mi nombre es Fernando Suarez, tengo 45 años, soy Docente de Programación 2'"
      ]
     },
     "execution_count": 31,
     "metadata": {},
     "output_type": "execute_result"
    }
   ],
   "source": [
    "docente1.mostrar_informacion()"
   ]
  },
  {
   "cell_type": "code",
   "execution_count": 32,
   "id": "3cd14ff7",
   "metadata": {},
   "outputs": [],
   "source": [
    "docente1.actualizar_informacion(nombre=\"Carlos\", edad=33)"
   ]
  },
  {
   "cell_type": "code",
   "execution_count": 33,
   "id": "76464397",
   "metadata": {},
   "outputs": [
    {
     "data": {
      "text/plain": [
       "'Mi nombre es Carlos Suarez, tengo 33 años, soy Docente de Programación 2'"
      ]
     },
     "execution_count": 33,
     "metadata": {},
     "output_type": "execute_result"
    }
   ],
   "source": [
    "docente1.mostrar_informacion()"
   ]
  },
  {
   "cell_type": "markdown",
   "id": "8695e32e",
   "metadata": {},
   "source": [
    "### Ordenamos la colección de personas por edad y nombre"
   ]
  },
  {
   "cell_type": "code",
   "execution_count": 34,
   "id": "c2386098",
   "metadata": {},
   "outputs": [],
   "source": [
    "estudiante2 = Estudiante(\"Carlos\", \"Ganzo\", 23, \"estudiante\")\n",
    "docente2 = Docente(\"Federico\", \"Pineda\", 44, \"docente\", \"Historia\")"
   ]
  },
  {
   "cell_type": "code",
   "execution_count": 35,
   "id": "73cf6b7e",
   "metadata": {},
   "outputs": [],
   "source": [
    "#incluir en la lista\n",
    "listPersonas.append(estudiante2)\n",
    "listPersonas.append(admin2)\n",
    "listPersonas.append(docente2)"
   ]
  },
  {
   "cell_type": "code",
   "execution_count": 36,
   "id": "af1f1f08",
   "metadata": {},
   "outputs": [],
   "source": [
    "estudiante3 = Estudiante(\"Pablo\", \"Giménez\", 29, \"estudiante\")\n",
    "\n",
    "listPersonas.append(estudiante3)"
   ]
  },
  {
   "cell_type": "code",
   "execution_count": 37,
   "id": "6995c24f",
   "metadata": {},
   "outputs": [
    {
     "name": "stdout",
     "output_type": "stream",
     "text": [
      "Estudiante: Carlos Ganzo (23)\n",
      "Administrativo: Pablo Gomez (27)\n",
      "Administrativo: Tomas Lopez (27)\n",
      "Estudiante: Pablo Giménez (29)\n",
      "Docente: Carlos Suarez (33)\n",
      "Estudiante: Franco Perez (44)\n",
      "Docente: Federico Pineda (44)\n"
     ]
    }
   ],
   "source": [
    "Persona.mostrar_orden(listPersonas, \"edad\")"
   ]
  },
  {
   "cell_type": "code",
   "execution_count": 38,
   "id": "3b109b7e",
   "metadata": {},
   "outputs": [
    {
     "name": "stdout",
     "output_type": "stream",
     "text": [
      "Docente: Carlos Suarez (33)\n",
      "Docente: Federico Pineda (44)\n"
     ]
    }
   ],
   "source": [
    "Docente.mostrar_orden(listPersonas, \"edad\")"
   ]
  },
  {
   "cell_type": "code",
   "execution_count": 39,
   "id": "d1814316",
   "metadata": {},
   "outputs": [
    {
     "name": "stdout",
     "output_type": "stream",
     "text": [
      "Docente: Carlos Suarez (33)\n",
      "Estudiante: Carlos Ganzo (23)\n",
      "Docente: Federico Pineda (44)\n",
      "Estudiante: Franco Perez (44)\n",
      "Administrativo: Pablo Gomez (27)\n",
      "Estudiante: Pablo Giménez (29)\n",
      "Administrativo: Tomas Lopez (27)\n"
     ]
    }
   ],
   "source": [
    "Persona.mostrar_orden(listPersonas, \"nombre\")"
   ]
  }
 ],
 "metadata": {
  "kernelspec": {
   "display_name": "ent_virtual",
   "language": "python",
   "name": "python3"
  },
  "language_info": {
   "codemirror_mode": {
    "name": "ipython",
    "version": 3
   },
   "file_extension": ".py",
   "mimetype": "text/x-python",
   "name": "python",
   "nbconvert_exporter": "python",
   "pygments_lexer": "ipython3",
   "version": "3.13.1"
  }
 },
 "nbformat": 4,
 "nbformat_minor": 5
}
